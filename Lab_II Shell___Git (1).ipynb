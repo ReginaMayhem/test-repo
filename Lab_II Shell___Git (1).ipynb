{
 "cells": [
  {
   "cell_type": "markdown",
   "metadata": {},
   "source": [
    "## Installing Git\n",
    "### Linux \n",
    "```shell\n",
    "apt-get install git\n",
    "\n",
    "```\n",
    "#### More Info\n",
    "http://git-scm.com/download/linux\n",
    "\n",
    "### Mac (many options)\n",
    "- install the Xcode Command Line Tools\n",
    "- Mavericks 10.9 or above\n",
    "  run git from the Terminal and follow instructions\n",
    "- binary installer\n",
    "  http://git-scm.com/download/mac\n",
    " \n",
    "### Windows\n",
    "- binaries from http://git-scm.com/download/win\n",
    "- Github for Windows \n",
    "  http://windows.github.com "
   ]
  },
  {
   "cell_type": "markdown",
   "metadata": {},
   "source": [
    "***\n",
    "## Configuration\n",
    "```shell\n",
    "git config --global user.name \"Datta Dwarampudi\"<br>\n",
    "git config --global user.email \"ddattasainath@nyu.edu\"<br>\n",
    "git config --global color.ui \"auto\"<br>\n",
    "git config --global core.editor \"vim\" <br>\n",
    "\n",
    "```\n",
    "> other editors: \"nano\", \"emacs\", etc.\n",
    "        \n",
    "### Listing existing configuration\n",
    "```shell\n",
    "git config --list\n",
    "\n",
    "```"
   ]
  },
  {
   "cell_type": "markdown",
   "metadata": {},
   "source": [
    "***\n",
    "## Creating a repository\n",
    "- make a directory called <font color=blue>practicing</font>\n",
    "\n",
    "```shell\n",
    "mkdir practicing\n",
    "cd practicing\n",
    "```"
   ]
  },
  {
   "cell_type": "markdown",
   "metadata": {
    "collapsed": true
   },
   "source": [
    "```shell\n",
    "git init\n",
    "```"
   ]
  },
  {
   "cell_type": "markdown",
   "metadata": {},
   "source": [
    "- makes <font color=blue>practicing</font> a repository and creates the .git file where git stores the history of the project"
   ]
  },
  {
   "cell_type": "markdown",
   "metadata": {},
   "source": [
    "***\n",
    "## Tracking files\n",
    "- create a text file called <font color=blue>file2track.txt</font> with any content\n"
   ]
  },
  {
   "cell_type": "markdown",
   "metadata": {},
   "source": [
    "```shell\n",
    "git status\n",
    "git add <font color=blue>file2track.txt</font>\n",
    "git commit -m \"commit message\"\n",
    "```"
   ]
  },
  {
   "cell_type": "markdown",
   "metadata": {},
   "source": [
    "## History"
   ]
  },
  {
   "cell_type": "markdown",
   "metadata": {
    "collapsed": true
   },
   "source": [
    "```shell\n",
    "git log\n",
    "```"
   ]
  },
  {
   "cell_type": "markdown",
   "metadata": {},
   "source": [
    "- make changes in the content of <font color=blue>file2track.txt</font>"
   ]
  },
  {
   "cell_type": "markdown",
   "metadata": {},
   "source": [
    "```shell\n",
    "git status\n",
    "git diff <font color=blue>file2track.txt</font>\n",
    "git add <font color=blue>file2track.txt</font>\n",
    "git commit --m \"message\"\n",
    "```"
   ]
  },
  {
   "cell_type": "markdown",
   "metadata": {},
   "source": [
    "- previous viersions can be handled with the command HEAD\n",
    "- make other changes in the content of <font color=blue>file2track.txt</font>"
   ]
  },
  {
   "cell_type": "markdown",
   "metadata": {},
   "source": [
    "```shell\n",
    "git diff HEAD~1\n",
    "git diff HEAD~2\n",
    "git log \n",
    "```"
   ]
  },
  {
   "cell_type": "markdown",
   "metadata": {},
   "source": [
    "- see the codes that appear after typing <font color=blue>git log</font> and copy one of them in the place of \"code\"<br>\n",
    "\n",
    "<font color=blue>git diff \"code\"</font>"
   ]
  },
  {
   "cell_type": "markdown",
   "metadata": {},
   "source": [
    "***\n",
    "## Recovering Older Versions\n",
    "Recover last recorded version:"
   ]
  },
  {
   "cell_type": "markdown",
   "metadata": {},
   "source": [
    "```shell\n",
    "git checkout HEAD file2track.txt\n",
    "```"
   ]
  },
  {
   "cell_type": "markdown",
   "metadata": {},
   "source": [
    "- revert to version in HEAD\n",
    "- you can replace HEAD by the version codes"
   ]
  },
  {
   "cell_type": "markdown",
   "metadata": {},
   "source": [
    "***\n",
    "## Dealing with a remote repository\n",
    "- go to github.com\n",
    "- sign into your account\n",
    "- press the create a new repo button\n",
    "- call the repository <font color=blue>collaborating</font> and press \"create repository\"\n",
    "- follow the instructions"
   ]
  },
  {
   "cell_type": "markdown",
   "metadata": {},
   "source": [
    "## Creating the repository at Github remotely\n",
    "- you can also create a repository at github remotely (<font color=blue>collaborating</font> is the name)"
   ]
  },
  {
   "cell_type": "markdown",
   "metadata": {},
   "source": [
    "```shell\n",
    "git remote add origin https://github.com/<your_path>/collaborating.git\n",
    "git push -u origin master\n",
    "```"
   ]
  },
  {
   "cell_type": "markdown",
   "metadata": {},
   "source": [
    "## Cloning an existing repository\n"
   ]
  },
  {
   "cell_type": "markdown",
   "metadata": {
    "collapsed": true
   },
   "source": [
    "```shell\n",
    "git clone https://github.com/<your_path>/collaborating.git\n",
    "```"
   ]
  },
  {
   "cell_type": "markdown",
   "metadata": {},
   "source": [
    "(if you are not in your account, the owner should give permission)"
   ]
  },
  {
   "cell_type": "markdown",
   "metadata": {
    "collapsed": true
   },
   "source": [
    "- get last version from repository\n",
    "```shell\n",
    "git pull\n",
    "``` "
   ]
  },
  {
   "cell_type": "markdown",
   "metadata": {
    "collapsed": true
   },
   "source": [
    "- create a file and submit it to the repository using the commands\n",
    "```shell\n",
    "git add ...\n",
    "git commit ...\n",
    "git push\n",
    "```"
   ]
  },
  {
   "cell_type": "markdown",
   "metadata": {},
   "source": [
    "---\n",
    "## Playing with branches\n",
    "Using one of your Github repository crated before\n",
    "- create a branch\n",
    "```shell\n",
    "git branch making_a_branck\n",
    "git branch\n",
    "git checkout making_a_branck\n",
    "git branch\n",
    "```"
   ]
  },
  {
   "cell_type": "markdown",
   "metadata": {},
   "source": [
    "- create a new file called \"new_file\" and commit it into the branch \"making\\_a\\_branch\"\n",
    "- list the files in your branch with the shell command _ls_ -_l_\n",
    "- switch branchs with the command:\n",
    "```shell\n",
    "git branch master\n",
    "```\n",
    "- list again the files in your branch with the shell command _ls_ -_l_\n",
    "  - notice that the \"new_file\" will not show up, as it does not belong to the \"master\" branch"
   ]
  },
  {
   "cell_type": "markdown",
   "metadata": {},
   "source": [
    "- merge the \"making_a_branck\" branch into the \"master\" branch\n",
    "```shell\n",
    "git merge making_a_branch\n",
    "```\n",
    "- list the files in your branch with the shell command _ls_ -_l_\n",
    "  - now the \"new_file\" will do be in the \"master\" branch"
   ]
  },
  {
   "cell_type": "markdown",
   "metadata": {},
   "source": [
    "- list the existing branches\n",
    "```shell\n",
    "git branch\n",
    "```\n",
    "- delete \"making\\_a\\_branch\" branch\n",
    "```shell\n",
    "git branch -d making_a_branch\n",
    "```"
   ]
  }
 ],
 "metadata": {
  "kernelspec": {
   "display_name": "Python 3",
   "language": "python",
   "name": "python3"
  },
  "language_info": {
   "codemirror_mode": {
    "name": "ipython",
    "version": 3
   },
   "file_extension": ".py",
   "mimetype": "text/x-python",
   "name": "python",
   "nbconvert_exporter": "python",
   "pygments_lexer": "ipython3",
   "version": "3.6.1"
  }
 },
 "nbformat": 4,
 "nbformat_minor": 2
}
